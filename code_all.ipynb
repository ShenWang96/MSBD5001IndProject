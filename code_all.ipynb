{
 "cells": [
  {
   "cell_type": "code",
   "execution_count": 1,
   "metadata": {},
   "outputs": [],
   "source": [
    "import pandas as pd\n",
    "import numpy as np\n",
    "from sklearn.ensemble import RandomForestClassifier\n",
    "from sklearn.ensemble import AdaBoostClassifier\n",
    "from sklearn import preprocessing\n",
    "from sklearn import linear_model\n",
    "from sklearn.model_selection import cross_val_score\n",
    "from sklearn.neural_network import MLPRegressor\n",
    "from sklearn import metrics\n",
    "import scipy\n",
    "import random\n",
    "import warnings\n",
    "warnings.filterwarnings('ignore')\n",
    "\n",
    "penalty_list = ['none','l1','l2','elasticnet']\n",
    "# penalty_list = ['elasticnet']"
   ]
  },
  {
   "cell_type": "code",
   "execution_count": 2,
   "metadata": {},
   "outputs": [],
   "source": [
    "def njobs(x):\n",
    "    if x == -1:\n",
    "        return 32\n",
    "    else:\n",
    "        return x\n",
    "def toOneHot(x):\n",
    "    result = [];\n",
    "    for i in x:\n",
    "        if i =='none':\n",
    "            result.append([1,0,0,0])\n",
    "        elif i=='l1':\n",
    "            result.append([0,1,0,0])\n",
    "        elif i=='l2':\n",
    "            result.append([0,0,1,0])\n",
    "        else:\n",
    "            result.append([0,0,0,1])\n",
    "    return result\n",
    "\n",
    "def models_fit(models, X, y):\n",
    "    for k, v in X.items():\n",
    "        models[k].fit(v.values, y.loc[v.index].values)\n",
    "\n",
    "def models_pred(models, X):\n",
    "    pred = pd.DataFrame()\n",
    "    for k, v in X.items():\n",
    "        temp = models[k].predict(v.values)\n",
    "        for i in range(len(temp)):\n",
    "            if temp[i] < 0:\n",
    "                temp[i] = 0\n",
    "        pred = pred.append(pd.DataFrame(temp, index = v.index, columns = ['time'] ))\n",
    "    return pred.sort_index()\n",
    "\n",
    "# def feature_split(features)"
   ]
  },
  {
   "cell_type": "code",
   "execution_count": null,
   "metadata": {},
   "outputs": [],
   "source": []
  },
  {
   "cell_type": "code",
   "execution_count": 3,
   "metadata": {},
   "outputs": [],
   "source": [
    "def preprocess(old_X, old_scaler = None, traing = True):\n",
    "    X = pd.DataFrame(old_X.values, columns = old_X.columns)   \n",
    "    X[:] = old_X.values\n",
    "    scaler = old_scaler\n",
    "    X['n_jobs'] = X.loc[:,'n_jobs'].apply(lambda x: 32 if x == -1 else x)\n",
    "#     X['alpha'] = X['alpha'].apply(lambda x: -np.log10(x) )    \n",
    "        \n",
    "    X['new1'] = X['max_iter'] * X['n_samples']*X['n_features']*X['n_classes']/X['n_jobs']\n",
    "    X['new2'] = X['n_classes'] * X['n_informative']\n",
    "    X['new3'] = X['n_clusters_per_class'] * X['n_informative']\n",
    "#     X['new2'] = X['max_iter'] * X['n_samples']*X['n_features']/X['n_jobs']/X['n_clusters_per_class']    \n",
    "    penalty = X['penalty']\n",
    "    n_jobs = X['n_jobs']\n",
    "    \n",
    "    X = X.drop(['penalty'], axis = 1)\n",
    "    X = X.drop(['random_state'], axis = 1)\n",
    "    X = X.drop(['scale'], axis = 1)    \n",
    "#     X = X.drop(['n_jobs'], axis = 1)\n",
    "#     X = X.drop(['max_iter'], axis = 1)\n",
    "#     X = X.drop(['n_samples'], axis = 1)\n",
    "#     X = X.drop(['n_features'], axis = 1)\n",
    "#     X = X.drop(['n_clusters_per_class'], axis = 1)\n",
    "\n",
    "    \n",
    "    if traing and (scaler==None):\n",
    "        scaler = preprocessing.StandardScaler()\n",
    "        X[:] = scaler.fit_transform(X)\n",
    "    else:\n",
    "        X[:] = scaler.transform(X)\n",
    "        \n",
    "#     X['n_jobs'] = n_jobs\n",
    "    split_features  = {}\n",
    "    for i in penalty_list:\n",
    "        split_features[i] =  X.loc[penalty == i]\n",
    "    \n",
    "#     X[['none', 'l1','l2','elasticnet']] = pd.DataFrame(toOneHot(penalty))\n",
    "    return split_features, scaler"
   ]
  },
  {
   "cell_type": "code",
   "execution_count": 4,
   "metadata": {},
   "outputs": [],
   "source": [
    "#load data\n",
    "data = pd.read_csv(\"train.csv\", index_col='id')"
   ]
  },
  {
   "cell_type": "code",
   "execution_count": 5,
   "metadata": {},
   "outputs": [
    {
     "name": "stdout",
     "output_type": "stream",
     "text": [
      "0.992447704624032\n"
     ]
    }
   ],
   "source": [
    "#valid set test\n",
    "# def all_pred(models, features):\n",
    "hidden_layer = (300, 300)\n",
    "max_iter=300000\n",
    "\n",
    "valid_iter = 50\n",
    "\n",
    "models = {}\n",
    "score = 0\n",
    "for i in range(valid_iter):\n",
    "    \n",
    "    data = data.sample(frac=1).reset_index(drop=True)\n",
    "\n",
    "    X_data = data.drop(['time'], axis = 1)\n",
    "    y_data = data[['time']]\n",
    "\n",
    "    features = X_data.loc[  :300 ].sort_index()\n",
    "    labels = y_data.loc[ :300 ].sort_index()\n",
    "\n",
    "    valid_features = X_data.loc[  300: ].sort_index()\n",
    "    valid_labels = y_data.loc[ 300: ].sort_index()\n",
    "    \n",
    "    processed_features, fitted_scaler = preprocess(features)\n",
    "    \n",
    "    for k,v in processed_features.items():\n",
    "        models[k] = MLPRegressor(hidden_layer_sizes=hidden_layer,max_iter=max_iter)\n",
    "    models_fit(models, processed_features, labels)\n",
    "    \n",
    "    processed_valid,_ = preprocess(valid_features, fitted_scaler,False)\n",
    "    # processed_valid\n",
    "    score += metrics.mean_squared_error( models_pred(models, processed_valid).values, valid_labels.values)\n",
    "print (score/valid_iter)"
   ]
  },
  {
   "cell_type": "code",
   "execution_count": 6,
   "metadata": {},
   "outputs": [],
   "source": [
    "processed_X,_ = preprocess(X_data, fitted_scaler, False)\n",
    "# cross_val_score(model, cv=5)\n",
    "models_fit(models, processed_X, y_data)"
   ]
  },
  {
   "cell_type": "code",
   "execution_count": 7,
   "metadata": {},
   "outputs": [],
   "source": [
    "test_data = pd.read_csv(\"test.csv\", index_col='id')"
   ]
  },
  {
   "cell_type": "code",
   "execution_count": 8,
   "metadata": {},
   "outputs": [],
   "source": [
    "processed_test_data, _ = preprocess(test_data, fitted_scaler, False)\n",
    "# processed_test_data.head()"
   ]
  },
  {
   "cell_type": "code",
   "execution_count": 9,
   "metadata": {},
   "outputs": [],
   "source": [
    "test_results = models_pred(models, processed_test_data)"
   ]
  },
  {
   "cell_type": "code",
   "execution_count": 14,
   "metadata": {},
   "outputs": [],
   "source": [
    "#output the results\n",
    "test_results.to_csv('output.csv',index_label = ['Id'])"
   ]
  },
  {
   "cell_type": "code",
   "execution_count": null,
   "metadata": {},
   "outputs": [],
   "source": []
  },
  {
   "cell_type": "code",
   "execution_count": 12,
   "metadata": {},
   "outputs": [],
   "source": []
  },
  {
   "cell_type": "code",
   "execution_count": 57,
   "metadata": {},
   "outputs": [],
   "source": [
    "\n"
   ]
  },
  {
   "cell_type": "code",
   "execution_count": null,
   "metadata": {},
   "outputs": [],
   "source": []
  },
  {
   "cell_type": "code",
   "execution_count": null,
   "metadata": {},
   "outputs": [],
   "source": []
  },
  {
   "cell_type": "code",
   "execution_count": null,
   "metadata": {},
   "outputs": [],
   "source": []
  },
  {
   "cell_type": "code",
   "execution_count": null,
   "metadata": {},
   "outputs": [],
   "source": []
  },
  {
   "cell_type": "code",
   "execution_count": null,
   "metadata": {},
   "outputs": [],
   "source": []
  },
  {
   "cell_type": "code",
   "execution_count": null,
   "metadata": {},
   "outputs": [],
   "source": []
  },
  {
   "cell_type": "code",
   "execution_count": null,
   "metadata": {},
   "outputs": [],
   "source": []
  },
  {
   "cell_type": "code",
   "execution_count": null,
   "metadata": {},
   "outputs": [],
   "source": []
  },
  {
   "cell_type": "code",
   "execution_count": null,
   "metadata": {},
   "outputs": [],
   "source": []
  },
  {
   "cell_type": "code",
   "execution_count": null,
   "metadata": {},
   "outputs": [],
   "source": []
  },
  {
   "cell_type": "code",
   "execution_count": null,
   "metadata": {},
   "outputs": [],
   "source": []
  },
  {
   "cell_type": "code",
   "execution_count": null,
   "metadata": {},
   "outputs": [],
   "source": []
  },
  {
   "cell_type": "code",
   "execution_count": null,
   "metadata": {},
   "outputs": [],
   "source": []
  },
  {
   "cell_type": "code",
   "execution_count": null,
   "metadata": {},
   "outputs": [],
   "source": []
  },
  {
   "cell_type": "code",
   "execution_count": null,
   "metadata": {},
   "outputs": [],
   "source": []
  },
  {
   "cell_type": "code",
   "execution_count": null,
   "metadata": {},
   "outputs": [],
   "source": [
    "\n"
   ]
  },
  {
   "cell_type": "code",
   "execution_count": null,
   "metadata": {},
   "outputs": [],
   "source": []
  },
  {
   "cell_type": "code",
   "execution_count": null,
   "metadata": {},
   "outputs": [],
   "source": []
  }
 ],
 "metadata": {
  "kernelspec": {
   "display_name": "Python 3",
   "language": "python",
   "name": "python3"
  },
  "language_info": {
   "codemirror_mode": {
    "name": "ipython",
    "version": 3
   },
   "file_extension": ".py",
   "mimetype": "text/x-python",
   "name": "python",
   "nbconvert_exporter": "python",
   "pygments_lexer": "ipython3",
   "version": "3.6.6"
  }
 },
 "nbformat": 4,
 "nbformat_minor": 2
}
